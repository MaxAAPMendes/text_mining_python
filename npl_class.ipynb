{
 "cells": [
  {
   "cell_type": "markdown",
   "metadata": {},
   "source": [
    "<h5> Treinamento NPL</h5>"
   ]
  },
  {
   "cell_type": "code",
   "execution_count": 81,
   "metadata": {},
   "outputs": [],
   "source": [
    "import pandas as pd"
   ]
  },
  {
   "cell_type": "code",
   "execution_count": 82,
   "metadata": {},
   "outputs": [],
   "source": [
    "train = pd.read_excel('C:/Users/f7098849/dados2.xlsx', sheet_name='dados1')"
   ]
  },
  {
   "cell_type": "code",
   "execution_count": 83,
   "metadata": {},
   "outputs": [],
   "source": [
    "#print(train['justificativa'])"
   ]
  },
  {
   "cell_type": "markdown",
   "metadata": {},
   "source": [
    "<h5>Number of words</h5>"
   ]
  },
  {
   "cell_type": "code",
   "execution_count": 84,
   "metadata": {},
   "outputs": [],
   "source": [
    "train['contar_palavras'] = train['justificativa'].apply(lambda x: len(str(x).split(' ')))"
   ]
  },
  {
   "cell_type": "code",
   "execution_count": 85,
   "metadata": {},
   "outputs": [
    {
     "data": {
      "text/html": [
       "<div>\n",
       "<style scoped>\n",
       "    .dataframe tbody tr th:only-of-type {\n",
       "        vertical-align: middle;\n",
       "    }\n",
       "\n",
       "    .dataframe tbody tr th {\n",
       "        vertical-align: top;\n",
       "    }\n",
       "\n",
       "    .dataframe thead th {\n",
       "        text-align: right;\n",
       "    }\n",
       "</style>\n",
       "<table border=\"1\" class=\"dataframe\">\n",
       "  <thead>\n",
       "    <tr style=\"text-align: right;\">\n",
       "      <th></th>\n",
       "      <th>justificativa</th>\n",
       "      <th>contar_palavras</th>\n",
       "    </tr>\n",
       "  </thead>\n",
       "  <tbody>\n",
       "    <tr>\n",
       "      <th>0</th>\n",
       "      <td>- MANUTENCAO DE 07 CADEIRAS EXISTENTES NA FILA...</td>\n",
       "      <td>20</td>\n",
       "    </tr>\n",
       "    <tr>\n",
       "      <th>1</th>\n",
       "      <td>PAGAMENTO INSTALÇAO PLACAS BIOMBO PRIVATICIDAD...</td>\n",
       "      <td>5</td>\n",
       "    </tr>\n",
       "    <tr>\n",
       "      <th>2</th>\n",
       "      <td>01 ASSENTO SANITARIO, PARA O BANHEIRO FEMININO.</td>\n",
       "      <td>7</td>\n",
       "    </tr>\n",
       "    <tr>\n",
       "      <th>3</th>\n",
       "      <td>01 PINO/REFORçO ESTAçãO DE TRABALHO</td>\n",
       "      <td>5</td>\n",
       "    </tr>\n",
       "    <tr>\n",
       "      <th>4</th>\n",
       "      <td>02 CADEIRAS MOON (GRAMPEAGEM); 03 CADEIRAS ESP...</td>\n",
       "      <td>27</td>\n",
       "    </tr>\n",
       "  </tbody>\n",
       "</table>\n",
       "</div>"
      ],
      "text/plain": [
       "                                       justificativa  contar_palavras\n",
       "0  - MANUTENCAO DE 07 CADEIRAS EXISTENTES NA FILA...               20\n",
       "1  PAGAMENTO INSTALÇAO PLACAS BIOMBO PRIVATICIDAD...                5\n",
       "2    01 ASSENTO SANITARIO, PARA O BANHEIRO FEMININO.                7\n",
       "3                01 PINO/REFORçO ESTAçãO DE TRABALHO                5\n",
       "4  02 CADEIRAS MOON (GRAMPEAGEM); 03 CADEIRAS ESP...               27"
      ]
     },
     "execution_count": 85,
     "metadata": {},
     "output_type": "execute_result"
    }
   ],
   "source": [
    "train[['justificativa','contar_palavras']].head()"
   ]
  },
  {
   "cell_type": "markdown",
   "metadata": {},
   "source": [
    "<h5>Number of Characters</h5>"
   ]
  },
  {
   "cell_type": "code",
   "execution_count": 86,
   "metadata": {},
   "outputs": [],
   "source": [
    "train['num_caracter'] = train['justificativa'].str.len() #this also includes spaces"
   ]
  },
  {
   "cell_type": "code",
   "execution_count": 87,
   "metadata": {},
   "outputs": [
    {
     "data": {
      "text/html": [
       "<div>\n",
       "<style scoped>\n",
       "    .dataframe tbody tr th:only-of-type {\n",
       "        vertical-align: middle;\n",
       "    }\n",
       "\n",
       "    .dataframe tbody tr th {\n",
       "        vertical-align: top;\n",
       "    }\n",
       "\n",
       "    .dataframe thead th {\n",
       "        text-align: right;\n",
       "    }\n",
       "</style>\n",
       "<table border=\"1\" class=\"dataframe\">\n",
       "  <thead>\n",
       "    <tr style=\"text-align: right;\">\n",
       "      <th></th>\n",
       "      <th>justificativa</th>\n",
       "      <th>num_caracter</th>\n",
       "    </tr>\n",
       "  </thead>\n",
       "  <tbody>\n",
       "    <tr>\n",
       "      <th>0</th>\n",
       "      <td>- MANUTENCAO DE 07 CADEIRAS EXISTENTES NA FILA...</td>\n",
       "      <td>115</td>\n",
       "    </tr>\n",
       "    <tr>\n",
       "      <th>1</th>\n",
       "      <td>PAGAMENTO INSTALÇAO PLACAS BIOMBO PRIVATICIDAD...</td>\n",
       "      <td>56</td>\n",
       "    </tr>\n",
       "    <tr>\n",
       "      <th>2</th>\n",
       "      <td>01 ASSENTO SANITARIO, PARA O BANHEIRO FEMININO.</td>\n",
       "      <td>47</td>\n",
       "    </tr>\n",
       "    <tr>\n",
       "      <th>3</th>\n",
       "      <td>01 PINO/REFORçO ESTAçãO DE TRABALHO</td>\n",
       "      <td>35</td>\n",
       "    </tr>\n",
       "    <tr>\n",
       "      <th>4</th>\n",
       "      <td>02 CADEIRAS MOON (GRAMPEAGEM); 03 CADEIRAS ESP...</td>\n",
       "      <td>202</td>\n",
       "    </tr>\n",
       "  </tbody>\n",
       "</table>\n",
       "</div>"
      ],
      "text/plain": [
       "                                       justificativa  num_caracter\n",
       "0  - MANUTENCAO DE 07 CADEIRAS EXISTENTES NA FILA...           115\n",
       "1  PAGAMENTO INSTALÇAO PLACAS BIOMBO PRIVATICIDAD...            56\n",
       "2    01 ASSENTO SANITARIO, PARA O BANHEIRO FEMININO.            47\n",
       "3                01 PINO/REFORçO ESTAçãO DE TRABALHO            35\n",
       "4  02 CADEIRAS MOON (GRAMPEAGEM); 03 CADEIRAS ESP...           202"
      ]
     },
     "execution_count": 87,
     "metadata": {},
     "output_type": "execute_result"
    }
   ],
   "source": [
    "train[['justificativa','num_caracter']].head()"
   ]
  },
  {
   "cell_type": "markdown",
   "metadata": {},
   "source": [
    "<h5>Average Word Length</h5>"
   ]
  },
  {
   "cell_type": "code",
   "execution_count": 88,
   "metadata": {},
   "outputs": [],
   "source": [
    "def avg_word(sentence):\n",
    "    words = sentence.split()\n",
    "    return (sum(len(word)for word in words)/len(words))"
   ]
  },
  {
   "cell_type": "code",
   "execution_count": 89,
   "metadata": {},
   "outputs": [],
   "source": [
    "train['avg_word'] = train['justificativa'].apply(lambda x: avg_word(x))"
   ]
  },
  {
   "cell_type": "code",
   "execution_count": 90,
   "metadata": {},
   "outputs": [
    {
     "data": {
      "text/html": [
       "<div>\n",
       "<style scoped>\n",
       "    .dataframe tbody tr th:only-of-type {\n",
       "        vertical-align: middle;\n",
       "    }\n",
       "\n",
       "    .dataframe tbody tr th {\n",
       "        vertical-align: top;\n",
       "    }\n",
       "\n",
       "    .dataframe thead th {\n",
       "        text-align: right;\n",
       "    }\n",
       "</style>\n",
       "<table border=\"1\" class=\"dataframe\">\n",
       "  <thead>\n",
       "    <tr style=\"text-align: right;\">\n",
       "      <th></th>\n",
       "      <th>justificativa</th>\n",
       "      <th>avg_word</th>\n",
       "    </tr>\n",
       "  </thead>\n",
       "  <tbody>\n",
       "    <tr>\n",
       "      <th>0</th>\n",
       "      <td>- MANUTENCAO DE 07 CADEIRAS EXISTENTES NA FILA...</td>\n",
       "      <td>4.800000</td>\n",
       "    </tr>\n",
       "    <tr>\n",
       "      <th>1</th>\n",
       "      <td>PAGAMENTO INSTALÇAO PLACAS BIOMBO PRIVATICIDAD...</td>\n",
       "      <td>10.400000</td>\n",
       "    </tr>\n",
       "    <tr>\n",
       "      <th>2</th>\n",
       "      <td>01 ASSENTO SANITARIO, PARA O BANHEIRO FEMININO.</td>\n",
       "      <td>5.857143</td>\n",
       "    </tr>\n",
       "    <tr>\n",
       "      <th>3</th>\n",
       "      <td>01 PINO/REFORçO ESTAçãO DE TRABALHO</td>\n",
       "      <td>6.200000</td>\n",
       "    </tr>\n",
       "    <tr>\n",
       "      <th>4</th>\n",
       "      <td>02 CADEIRAS MOON (GRAMPEAGEM); 03 CADEIRAS ESP...</td>\n",
       "      <td>6.518519</td>\n",
       "    </tr>\n",
       "  </tbody>\n",
       "</table>\n",
       "</div>"
      ],
      "text/plain": [
       "                                       justificativa   avg_word\n",
       "0  - MANUTENCAO DE 07 CADEIRAS EXISTENTES NA FILA...   4.800000\n",
       "1  PAGAMENTO INSTALÇAO PLACAS BIOMBO PRIVATICIDAD...  10.400000\n",
       "2    01 ASSENTO SANITARIO, PARA O BANHEIRO FEMININO.   5.857143\n",
       "3                01 PINO/REFORçO ESTAçãO DE TRABALHO   6.200000\n",
       "4  02 CADEIRAS MOON (GRAMPEAGEM); 03 CADEIRAS ESP...   6.518519"
      ]
     },
     "execution_count": 90,
     "metadata": {},
     "output_type": "execute_result"
    }
   ],
   "source": [
    "train[['justificativa', 'avg_word']].head()"
   ]
  },
  {
   "cell_type": "markdown",
   "metadata": {},
   "source": [
    "<h5>Number of stopwords #irrelevantes"
   ]
  },
  {
   "cell_type": "code",
   "execution_count": 91,
   "metadata": {},
   "outputs": [],
   "source": [
    "#from nltk.corpus import stopwords #http://www.nltk.org/book/ch00-pt.html"
   ]
  },
  {
   "cell_type": "code",
   "execution_count": 92,
   "metadata": {},
   "outputs": [],
   "source": [
    "#import nltk\n",
    "#nltk.download('stopwords')"
   ]
  },
  {
   "cell_type": "code",
   "execution_count": 93,
   "metadata": {},
   "outputs": [],
   "source": [
    "#stop = stopwords.words('portuguese')"
   ]
  },
  {
   "cell_type": "code",
   "execution_count": 94,
   "metadata": {},
   "outputs": [],
   "source": [
    "#train['stop_words'] = train['justificativa'].apply(lambda x:len([x for x in x.split() if x in stop]))"
   ]
  },
  {
   "cell_type": "code",
   "execution_count": 95,
   "metadata": {},
   "outputs": [],
   "source": [
    "#train[['justificativa','stop_words']].head()"
   ]
  },
  {
   "cell_type": "code",
   "execution_count": 96,
   "metadata": {},
   "outputs": [],
   "source": [
    "stop = pd.read_excel('L:\\Interna\\Informações Gerencias\\Projetos e Pesquisas\\Machine Learning\\Stopwords\\stopwords.xlsx', sheet_name = 'Planilha1')"
   ]
  },
  {
   "cell_type": "code",
   "execution_count": 97,
   "metadata": {},
   "outputs": [
    {
     "data": {
      "text/plain": [
       "stop    560\n",
       "dtype: int64"
      ]
     },
     "execution_count": 97,
     "metadata": {},
     "output_type": "execute_result"
    }
   ],
   "source": [
    "stop.count()"
   ]
  },
  {
   "cell_type": "code",
   "execution_count": 141,
   "metadata": {},
   "outputs": [
    {
     "data": {
      "text/html": [
       "<div>\n",
       "<style scoped>\n",
       "    .dataframe tbody tr th:only-of-type {\n",
       "        vertical-align: middle;\n",
       "    }\n",
       "\n",
       "    .dataframe tbody tr th {\n",
       "        vertical-align: top;\n",
       "    }\n",
       "\n",
       "    .dataframe thead th {\n",
       "        text-align: right;\n",
       "    }\n",
       "</style>\n",
       "<table border=\"1\" class=\"dataframe\">\n",
       "  <thead>\n",
       "    <tr style=\"text-align: right;\">\n",
       "      <th></th>\n",
       "      <th>stop</th>\n",
       "    </tr>\n",
       "  </thead>\n",
       "  <tbody>\n",
       "    <tr>\n",
       "      <th>0</th>\n",
       "      <td>a</td>\n",
       "    </tr>\n",
       "    <tr>\n",
       "      <th>1</th>\n",
       "      <td>acerca</td>\n",
       "    </tr>\n",
       "    <tr>\n",
       "      <th>2</th>\n",
       "      <td>adeus</td>\n",
       "    </tr>\n",
       "    <tr>\n",
       "      <th>3</th>\n",
       "      <td>agora</td>\n",
       "    </tr>\n",
       "    <tr>\n",
       "      <th>4</th>\n",
       "      <td>ainda</td>\n",
       "    </tr>\n",
       "  </tbody>\n",
       "</table>\n",
       "</div>"
      ],
      "text/plain": [
       "     stop\n",
       "0       a\n",
       "1  acerca\n",
       "2   adeus\n",
       "3   agora\n",
       "4   ainda"
      ]
     },
     "execution_count": 141,
     "metadata": {},
     "output_type": "execute_result"
    }
   ],
   "source": [
    "stop.head()"
   ]
  },
  {
   "cell_type": "code",
   "execution_count": 158,
   "metadata": {},
   "outputs": [
    {
     "name": "stdout",
     "output_type": "stream",
     "text": [
      "stop\n"
     ]
    }
   ],
   "source": [
    "for x in stop:\n",
    "    print(x)"
   ]
  },
  {
   "cell_type": "code",
   "execution_count": 157,
   "metadata": {},
   "outputs": [
    {
     "name": "stdout",
     "output_type": "stream",
     "text": [
      "a\n",
      "acerca\n",
      "adeus\n",
      "agora\n",
      "ainda\n",
      "alem\n",
      "algmas\n",
      "algo\n",
      "algumas\n",
      "alguns\n",
      "ali\n",
      "além\n",
      "ambas\n",
      "ambos\n",
      "ano\n",
      "anos\n",
      "antes\n",
      "ao\n",
      "aonde\n",
      "aos\n",
      "apenas\n",
      "apoio\n",
      "apontar\n",
      "apos\n",
      "após\n",
      "aquela\n",
      "aquelas\n",
      "aquele\n",
      "aqueles\n",
      "aqui\n",
      "aquilo\n",
      "as\n",
      "assim\n",
      "através\n",
      "atrás\n",
      "até\n",
      "aí\n",
      "baixo\n",
      "bastante\n",
      "bem\n",
      "boa\n",
      "boas\n",
      "bom\n",
      "bons\n",
      "breve\n",
      "cada\n",
      "caminho\n",
      "catorze\n",
      "cedo\n",
      "cento\n",
      "certamente\n",
      "certeza\n",
      "cima\n",
      "cinco\n",
      "coisa\n",
      "com\n",
      "como\n",
      "comprido\n",
      "conhecido\n",
      "conselho\n",
      "contra\n",
      "contudo\n",
      "corrente\n",
      "cuja\n",
      "cujas\n",
      "cujo\n",
      "cujos\n",
      "custa\n",
      "cá\n",
      "da\n",
      "daquela\n",
      "daquelas\n",
      "daquele\n",
      "daqueles\n",
      "dar\n",
      "das\n",
      "de\n",
      "debaixo\n",
      "dela\n",
      "delas\n",
      "dele\n",
      "deles\n",
      "demais\n",
      "dentro\n",
      "depois\n",
      "desde\n",
      "desligado\n",
      "dessa\n",
      "dessas\n",
      "desse\n",
      "desses\n",
      "desta\n",
      "destas\n",
      "deste\n",
      "destes\n",
      "deve\n",
      "devem\n",
      "deverá\n",
      "dez\n",
      "dezanove\n",
      "dezasseis\n",
      "dezassete\n",
      "dezoito\n",
      "dia\n",
      "diante\n",
      "direita\n",
      "dispoe\n",
      "dispoem\n",
      "diversa\n",
      "diversas\n",
      "diversos\n",
      "diz\n",
      "dizem\n",
      "dizer\n",
      "do\n",
      "dois\n",
      "dos\n",
      "doze\n",
      "duas\n",
      "durante\n",
      "dá\n",
      "dão\n",
      "dúvida\n",
      "e\n",
      "ela\n",
      "elas\n",
      "ele\n",
      "eles\n",
      "em\n",
      "embora\n",
      "enquanto\n",
      "entao\n",
      "entre\n",
      "então\n",
      "era\n",
      "eram\n",
      "essa\n",
      "essas\n",
      "esse\n",
      "esses\n",
      "esta\n",
      "estado\n",
      "estamos\n",
      "estar\n",
      "estará\n",
      "estas\n",
      "estava\n",
      "estavam\n",
      "este\n",
      "esteja\n",
      "estejam\n",
      "estejamos\n",
      "estes\n",
      "esteve\n",
      "estive\n",
      "estivemos\n",
      "estiver\n",
      "estivera\n",
      "estiveram\n",
      "estiverem\n",
      "estivermos\n",
      "estivesse\n",
      "estivessem\n",
      "estiveste\n",
      "estivestes\n",
      "estivéramos\n",
      "estivéssemos\n",
      "estou\n",
      "está\n",
      "estás\n",
      "estávamos\n",
      "estão\n",
      "eu\n",
      "exemplo\n",
      "falta\n",
      "fará\n",
      "favor\n",
      "faz\n",
      "fazeis\n",
      "fazem\n",
      "fazemos\n",
      "fazer\n",
      "fazes\n",
      "fazia\n",
      "faço\n",
      "fez\n",
      "fim\n",
      "final\n",
      "foi\n",
      "fomos\n",
      "for\n",
      "fora\n",
      "foram\n",
      "forem\n",
      "forma\n",
      "formos\n",
      "fosse\n",
      "fossem\n",
      "foste\n",
      "fostes\n",
      "fui\n",
      "fôramos\n",
      "fôssemos\n",
      "geral\n",
      "grande\n",
      "grandes\n",
      "grupo\n",
      "ha\n",
      "haja\n",
      "hajam\n",
      "hajamos\n",
      "havemos\n",
      "havia\n",
      "hei\n",
      "hoje\n",
      "hora\n",
      "horas\n",
      "houve\n",
      "houvemos\n",
      "houver\n",
      "houvera\n",
      "houveram\n",
      "houverei\n",
      "houverem\n",
      "houveremos\n",
      "houveria\n",
      "houveriam\n",
      "houvermos\n",
      "houverá\n",
      "houverão\n",
      "houveríamos\n",
      "houvesse\n",
      "houvessem\n",
      "houvéramos\n",
      "houvéssemos\n",
      "há\n",
      "hão\n",
      "iniciar\n",
      "inicio\n",
      "ir\n",
      "irá\n",
      "isso\n",
      "ista\n",
      "iste\n",
      "isto\n",
      "já\n",
      "lado\n",
      "lhe\n",
      "lhes\n",
      "ligado\n",
      "local\n",
      "logo\n",
      "longe\n",
      "lugar\n",
      "lá\n",
      "maior\n",
      "maioria\n",
      "maiorias\n",
      "mais\n",
      "mal\n",
      "mas\n",
      "me\n",
      "mediante\n",
      "meio\n",
      "menor\n",
      "menos\n",
      "meses\n",
      "mesma\n",
      "mesmas\n",
      "mesmo\n",
      "mesmos\n",
      "meu\n",
      "meus\n",
      "mil\n",
      "minha\n",
      "minhas\n",
      "momento\n",
      "muito\n",
      "muitos\n",
      "máximo\n",
      "mês\n",
      "na\n",
      "nada\n",
      "nao\n",
      "naquela\n",
      "naquelas\n",
      "naquele\n",
      "naqueles\n",
      "nas\n",
      "nem\n",
      "nenhuma\n",
      "nessa\n",
      "nessas\n",
      "nesse\n",
      "nesses\n",
      "nesta\n",
      "nestas\n",
      "neste\n",
      "nestes\n",
      "no\n",
      "noite\n",
      "nome\n",
      "nos\n",
      "nossa\n",
      "nossas\n",
      "nosso\n",
      "nossos\n",
      "nova\n",
      "novas\n",
      "nove\n",
      "novo\n",
      "novos\n",
      "num\n",
      "numa\n",
      "numas\n",
      "nunca\n",
      "nuns\n",
      "não\n",
      "nível\n",
      "nós\n",
      "número\n",
      "o\n",
      "obra\n",
      "obrigada\n",
      "obrigado\n",
      "oitava\n",
      "oitavo\n",
      "oito\n",
      "onde\n",
      "ontem\n",
      "onze\n",
      "os\n",
      "ou\n",
      "outra\n",
      "outras\n",
      "outro\n",
      "outros\n",
      "para\n",
      "parece\n",
      "parte\n",
      "partir\n",
      "paucas\n",
      "pegar\n",
      "pela\n",
      "pelas\n",
      "pelo\n",
      "pelos\n",
      "perante\n",
      "perto\n",
      "pessoas\n",
      "pode\n",
      "podem\n",
      "poder\n",
      "poderá\n",
      "podia\n",
      "pois\n",
      "ponto\n",
      "pontos\n",
      "por\n",
      "porque\n",
      "porquê\n",
      "portanto\n",
      "posição\n",
      "possivelmente\n",
      "posso\n",
      "possível\n",
      "pouca\n",
      "pouco\n",
      "poucos\n",
      "povo\n",
      "primeira\n",
      "primeiras\n",
      "primeiro\n",
      "primeiros\n",
      "promeiro\n",
      "propios\n",
      "proprio\n",
      "própria\n",
      "próprias\n",
      "próprio\n",
      "próprios\n",
      "próxima\n",
      "próximas\n",
      "próximo\n",
      "próximos\n",
      "puderam\n",
      "pôde\n",
      "põe\n",
      "põem\n",
      "quais\n",
      "qual\n",
      "qualquer\n",
      "quando\n",
      "quanto\n",
      "quarta\n",
      "quarto\n",
      "quatro\n",
      "que\n",
      "quem\n",
      "quer\n",
      "quereis\n",
      "querem\n",
      "queremas\n",
      "queres\n",
      "quero\n",
      "questão\n",
      "quieto\n",
      "quinta\n",
      "quinto\n",
      "quinze\n",
      "quáis\n",
      "quê\n",
      "relação\n",
      "sabe\n",
      "sabem\n",
      "saber\n",
      "se\n",
      "segunda\n",
      "segundo\n",
      "sei\n",
      "seis\n",
      "seja\n",
      "sejam\n",
      "sejamos\n",
      "sem\n",
      "sempre\n",
      "sendo\n",
      "ser\n",
      "serei\n",
      "seremos\n",
      "seria\n",
      "seriam\n",
      "será\n",
      "serão\n",
      "seríamos\n",
      "sete\n",
      "seu\n",
      "seus\n",
      "sexta\n",
      "sexto\n",
      "sim\n",
      "sistema\n",
      "sob\n",
      "sobre\n",
      "sois\n",
      "somente\n",
      "somos\n",
      "sou\n",
      "sua\n",
      "suas\n",
      "são\n",
      "sétima\n",
      "sétimo\n",
      "só\n",
      "tal\n",
      "talvez\n",
      "tambem\n",
      "também\n",
      "tanta\n",
      "tantas\n",
      "tanto\n",
      "tarde\n",
      "te\n",
      "tem\n",
      "temos\n",
      "tempo\n",
      "tendes\n",
      "tenha\n",
      "tenham\n",
      "tenhamos\n",
      "tenho\n",
      "tens\n",
      "tentar\n",
      "tentaram\n",
      "tente\n",
      "tentei\n",
      "ter\n",
      "terceira\n",
      "terceiro\n",
      "terei\n",
      "teremos\n",
      "teria\n",
      "teriam\n",
      "terá\n",
      "terão\n",
      "teríamos\n",
      "teu\n",
      "teus\n",
      "teve\n",
      "tinha\n",
      "tinham\n",
      "tipo\n",
      "tive\n",
      "tivemos\n",
      "tiver\n",
      "tivera\n",
      "tiveram\n",
      "tiverem\n",
      "tivermos\n",
      "tivesse\n",
      "tivessem\n",
      "tiveste\n",
      "tivestes\n",
      "tivéramos\n",
      "tivéssemos\n",
      "toda\n",
      "todas\n",
      "todo\n",
      "todos\n",
      "trabalhar\n",
      "trabalho\n",
      "treze\n",
      "três\n",
      "tu\n",
      "tua\n",
      "tuas\n",
      "tudo\n",
      "tão\n",
      "tém\n",
      "têm\n",
      "tínhamos\n",
      "um\n",
      "uma\n",
      "umas\n",
      "uns\n",
      "usa\n",
      "usar\n",
      "vai\n",
      "vais\n",
      "valor\n",
      "veja\n",
      "vem\n",
      "vens\n",
      "ver\n",
      "verdade\n",
      "True\n",
      "vez\n",
      "vezes\n",
      "viagem\n",
      "vindo\n",
      "vinte\n",
      "você\n",
      "vocês\n",
      "vos\n",
      "vossa\n",
      "vossas\n",
      "vosso\n",
      "vossos\n",
      "vários\n",
      "vão\n",
      "vêm\n",
      "vós\n",
      "zero\n",
      "à\n",
      "às\n",
      "área\n",
      "é\n",
      "éramos\n",
      "és\n",
      "último\n"
     ]
    }
   ],
   "source": [
    "for x in stop['stop']:\n",
    "    print(x)"
   ]
  },
  {
   "cell_type": "code",
   "execution_count": 142,
   "metadata": {},
   "outputs": [
    {
     "data": {
      "text/plain": [
       "0         a\n",
       "1    acerca\n",
       "2     adeus\n",
       "3     agora\n",
       "4     ainda\n",
       "Name: stop, dtype: object"
      ]
     },
     "execution_count": 142,
     "metadata": {},
     "output_type": "execute_result"
    }
   ],
   "source": [
    "stop['stop'].head()"
   ]
  },
  {
   "cell_type": "code",
   "execution_count": null,
   "metadata": {},
   "outputs": [],
   "source": []
  },
  {
   "cell_type": "code",
   "execution_count": 100,
   "metadata": {},
   "outputs": [],
   "source": [
    "stopwords = []"
   ]
  },
  {
   "cell_type": "code",
   "execution_count": 101,
   "metadata": {},
   "outputs": [],
   "source": [
    "stopwords = pd.Series(stop['stop'])"
   ]
  },
  {
   "cell_type": "code",
   "execution_count": 164,
   "metadata": {},
   "outputs": [
    {
     "data": {
      "text/plain": [
       "0         a\n",
       "1    acerca\n",
       "2     adeus\n",
       "3     agora\n",
       "4     ainda\n",
       "Name: stop, dtype: object"
      ]
     },
     "execution_count": 164,
     "metadata": {},
     "output_type": "execute_result"
    }
   ],
   "source": [
    "stopwords.head()"
   ]
  },
  {
   "cell_type": "code",
   "execution_count": 159,
   "metadata": {},
   "outputs": [],
   "source": [
    "train['stopwords'] = train['justificativa'].apply(lambda x: len([x for x in x.split() if x in stop['stop']]))"
   ]
  },
  {
   "cell_type": "code",
   "execution_count": null,
   "metadata": {},
   "outputs": [],
   "source": [
    "\n",
    "    \n",
    "    "
   ]
  },
  {
   "cell_type": "code",
   "execution_count": 145,
   "metadata": {},
   "outputs": [
    {
     "data": {
      "text/plain": [
       "0    0\n",
       "1    0\n",
       "2    0\n",
       "3    0\n",
       "4    0\n",
       "Name: stopwords, dtype: int64"
      ]
     },
     "execution_count": 145,
     "metadata": {},
     "output_type": "execute_result"
    }
   ],
   "source": [
    "train['stopwords'].head()"
   ]
  },
  {
   "cell_type": "code",
   "execution_count": 28,
   "metadata": {},
   "outputs": [
    {
     "data": {
      "text/plain": [
       "'- MANUTENCAO DE 07 CADEIRAS EXISTENTES NA FILA DE ESPERA CAIXA/ATEND E 03 CADEIRAS DE USO DOS FUNCIS DO ATENDIMENTO'"
      ]
     },
     "execution_count": 28,
     "metadata": {},
     "output_type": "execute_result"
    }
   ],
   "source": [
    "train['justificativa'][0]"
   ]
  },
  {
   "cell_type": "code",
   "execution_count": 29,
   "metadata": {},
   "outputs": [
    {
     "data": {
      "text/plain": [
       "'- manutencao de 07 cadeiras existentes na fila de espera caixa/atend e 03 cadeiras de uso dos funcis do atendimento'"
      ]
     },
     "execution_count": 29,
     "metadata": {},
     "output_type": "execute_result"
    }
   ],
   "source": [
    "train['justificativa'][0].lower()"
   ]
  },
  {
   "cell_type": "code",
   "execution_count": 109,
   "metadata": {},
   "outputs": [
    {
     "data": {
      "text/plain": [
       "['-',\n",
       " 'manutencao',\n",
       " 'de',\n",
       " '07',\n",
       " 'cadeiras',\n",
       " 'existentes',\n",
       " 'na',\n",
       " 'fila',\n",
       " 'de',\n",
       " 'espera',\n",
       " 'caixa/atend',\n",
       " 'e',\n",
       " '03',\n",
       " 'cadeiras',\n",
       " 'de',\n",
       " 'uso',\n",
       " 'dos',\n",
       " 'funcis',\n",
       " 'do',\n",
       " 'atendimento']"
      ]
     },
     "execution_count": 109,
     "metadata": {},
     "output_type": "execute_result"
    }
   ],
   "source": [
    "train['justificativa'][0].lower().split()\n",
    "        "
   ]
  },
  {
   "cell_type": "code",
   "execution_count": null,
   "metadata": {},
   "outputs": [],
   "source": [
    "#train['justificativa'][0].append('teste')\n",
    "#train['justificativa'][0] #'teste'\n"
   ]
  },
  {
   "cell_type": "code",
   "execution_count": null,
   "metadata": {},
   "outputs": [],
   "source": []
  },
  {
   "cell_type": "code",
   "execution_count": 249,
   "metadata": {},
   "outputs": [
    {
     "name": "stdout",
     "output_type": "stream",
     "text": [
      "['-']\n",
      "['manutencao']\n",
      "['de']\n",
      "['07']\n",
      "['cadeiras']\n",
      "['existentes']\n",
      "['na']\n",
      "['fila']\n",
      "['de']\n",
      "['espera']\n",
      "['caixa/atend']\n",
      "['e']\n",
      "['03']\n",
      "['cadeiras']\n",
      "['de']\n",
      "['uso']\n",
      "['dos']\n",
      "['funcis']\n",
      "['do']\n",
      "['atendimento']\n"
     ]
    }
   ],
   "source": [
    "for x in train['justificativa'][0].lower().split():\n",
    "    if x.split()\n",
    "    print(x.split())"
   ]
  },
  {
   "cell_type": "code",
   "execution_count": 232,
   "metadata": {},
   "outputs": [],
   "source": [
    "lista_stop_words = []"
   ]
  },
  {
   "cell_type": "code",
   "execution_count": 234,
   "metadata": {},
   "outputs": [],
   "source": [
    "arquivoxls = pd.read_excel('L:\\Interna\\Informações Gerencias\\Projetos e Pesquisas\\Machine Learning\\Stopwords\\stopwords2.xlsx')"
   ]
  },
  {
   "cell_type": "code",
   "execution_count": 237,
   "metadata": {},
   "outputs": [],
   "source": [
    "for x in arquivoxls['stopwords']:\n",
    "    lista_stop_words.append(x)"
   ]
  },
  {
   "cell_type": "code",
   "execution_count": 238,
   "metadata": {},
   "outputs": [
    {
     "data": {
      "text/plain": [
       "['stopwords',\n",
       " 'acerca',\n",
       " 'adeus',\n",
       " 'agora',\n",
       " 'ainda',\n",
       " 'alem',\n",
       " 'algmas',\n",
       " 'algo',\n",
       " 'algumas',\n",
       " 'alguns',\n",
       " 'ali',\n",
       " 'além',\n",
       " 'ambas',\n",
       " 'ambos',\n",
       " 'ano',\n",
       " 'anos',\n",
       " 'antes',\n",
       " 'ao',\n",
       " 'aonde',\n",
       " 'aos',\n",
       " 'apenas',\n",
       " 'apoio',\n",
       " 'apontar',\n",
       " 'apos',\n",
       " 'após',\n",
       " 'aquela',\n",
       " 'aquelas',\n",
       " 'aquele',\n",
       " 'aqueles',\n",
       " 'aqui',\n",
       " 'aquilo',\n",
       " 'as',\n",
       " 'assim',\n",
       " 'através',\n",
       " 'atrás',\n",
       " 'até',\n",
       " 'aí',\n",
       " 'baixo',\n",
       " 'bastante',\n",
       " 'bem',\n",
       " 'boa',\n",
       " 'boas',\n",
       " 'bom',\n",
       " 'bons',\n",
       " 'breve',\n",
       " 'cada',\n",
       " 'caminho',\n",
       " 'catorze',\n",
       " 'cedo',\n",
       " 'cento',\n",
       " 'certamente',\n",
       " 'certeza',\n",
       " 'cima',\n",
       " 'cinco',\n",
       " 'coisa',\n",
       " 'com',\n",
       " 'como',\n",
       " 'comprido',\n",
       " 'conhecido',\n",
       " 'conselho',\n",
       " 'contra',\n",
       " 'contudo',\n",
       " 'corrente',\n",
       " 'cuja',\n",
       " 'cujas',\n",
       " 'cujo',\n",
       " 'cujos',\n",
       " 'custa',\n",
       " 'cá',\n",
       " 'da',\n",
       " 'daquela',\n",
       " 'daquelas',\n",
       " 'daquele',\n",
       " 'daqueles',\n",
       " 'dar',\n",
       " 'das',\n",
       " 'de',\n",
       " 'debaixo',\n",
       " 'dela',\n",
       " 'delas',\n",
       " 'dele',\n",
       " 'deles',\n",
       " 'demais',\n",
       " 'dentro',\n",
       " 'depois',\n",
       " 'desde',\n",
       " 'desligado',\n",
       " 'dessa',\n",
       " 'dessas',\n",
       " 'desse',\n",
       " 'desses',\n",
       " 'desta',\n",
       " 'destas',\n",
       " 'deste',\n",
       " 'destes',\n",
       " 'deve',\n",
       " 'devem',\n",
       " 'deverá',\n",
       " 'dez',\n",
       " 'dezanove',\n",
       " 'dezasseis',\n",
       " 'dezassete',\n",
       " 'dezoito',\n",
       " 'dia',\n",
       " 'diante',\n",
       " 'direita',\n",
       " 'dispoe',\n",
       " 'dispoem',\n",
       " 'diversa',\n",
       " 'diversas',\n",
       " 'diversos',\n",
       " 'diz',\n",
       " 'dizem',\n",
       " 'dizer',\n",
       " 'do',\n",
       " 'dois',\n",
       " 'dos',\n",
       " 'doze',\n",
       " 'duas',\n",
       " 'durante',\n",
       " 'dá',\n",
       " 'dão',\n",
       " 'dúvida',\n",
       " 'e',\n",
       " 'ela',\n",
       " 'elas',\n",
       " 'ele',\n",
       " 'eles',\n",
       " 'em',\n",
       " 'embora',\n",
       " 'enquanto',\n",
       " 'entao',\n",
       " 'entre',\n",
       " 'então',\n",
       " 'era',\n",
       " 'eram',\n",
       " 'essa',\n",
       " 'essas',\n",
       " 'esse',\n",
       " 'esses',\n",
       " 'esta',\n",
       " 'estado',\n",
       " 'estamos',\n",
       " 'estar',\n",
       " 'estará',\n",
       " 'estas',\n",
       " 'estava',\n",
       " 'estavam',\n",
       " 'este',\n",
       " 'esteja',\n",
       " 'estejam',\n",
       " 'estejamos',\n",
       " 'estes',\n",
       " 'esteve',\n",
       " 'estive',\n",
       " 'estivemos',\n",
       " 'estiver',\n",
       " 'estivera',\n",
       " 'estiveram',\n",
       " 'estiverem',\n",
       " 'estivermos',\n",
       " 'estivesse',\n",
       " 'estivessem',\n",
       " 'estiveste',\n",
       " 'estivestes',\n",
       " 'estivéramos',\n",
       " 'estivéssemos',\n",
       " 'estou',\n",
       " 'está',\n",
       " 'estás',\n",
       " 'estávamos',\n",
       " 'estão',\n",
       " 'eu',\n",
       " 'exemplo',\n",
       " 'falta',\n",
       " 'fará',\n",
       " 'favor',\n",
       " 'faz',\n",
       " 'fazeis',\n",
       " 'fazem',\n",
       " 'fazemos',\n",
       " 'fazer',\n",
       " 'fazes',\n",
       " 'fazia',\n",
       " 'faço',\n",
       " 'fez',\n",
       " 'fim',\n",
       " 'final',\n",
       " 'foi',\n",
       " 'fomos',\n",
       " 'for',\n",
       " 'fora',\n",
       " 'foram',\n",
       " 'forem',\n",
       " 'forma',\n",
       " 'formos',\n",
       " 'fosse',\n",
       " 'fossem',\n",
       " 'foste',\n",
       " 'fostes',\n",
       " 'fui',\n",
       " 'fôramos',\n",
       " 'fôssemos',\n",
       " 'geral',\n",
       " 'grande',\n",
       " 'grandes',\n",
       " 'grupo',\n",
       " 'ha',\n",
       " 'haja',\n",
       " 'hajam',\n",
       " 'hajamos',\n",
       " 'havemos',\n",
       " 'havia',\n",
       " 'hei',\n",
       " 'hoje',\n",
       " 'hora',\n",
       " 'horas',\n",
       " 'houve',\n",
       " 'houvemos',\n",
       " 'houver',\n",
       " 'houvera',\n",
       " 'houveram',\n",
       " 'houverei',\n",
       " 'houverem',\n",
       " 'houveremos',\n",
       " 'houveria',\n",
       " 'houveriam',\n",
       " 'houvermos',\n",
       " 'houverá',\n",
       " 'houverão',\n",
       " 'houveríamos',\n",
       " 'houvesse',\n",
       " 'houvessem',\n",
       " 'houvéramos',\n",
       " 'houvéssemos',\n",
       " 'há',\n",
       " 'hão',\n",
       " 'iniciar',\n",
       " 'inicio',\n",
       " 'ir',\n",
       " 'irá',\n",
       " 'isso',\n",
       " 'ista',\n",
       " 'iste',\n",
       " 'isto',\n",
       " 'já',\n",
       " 'lado',\n",
       " 'lhe',\n",
       " 'lhes',\n",
       " 'ligado',\n",
       " 'local',\n",
       " 'logo',\n",
       " 'longe',\n",
       " 'lugar',\n",
       " 'lá',\n",
       " 'maior',\n",
       " 'maioria',\n",
       " 'maiorias',\n",
       " 'mais',\n",
       " 'mal',\n",
       " 'mas',\n",
       " 'me',\n",
       " 'mediante',\n",
       " 'meio',\n",
       " 'menor',\n",
       " 'menos',\n",
       " 'meses',\n",
       " 'mesma',\n",
       " 'mesmas',\n",
       " 'mesmo',\n",
       " 'mesmos',\n",
       " 'meu',\n",
       " 'meus',\n",
       " 'mil',\n",
       " 'minha',\n",
       " 'minhas',\n",
       " 'momento',\n",
       " 'muito',\n",
       " 'muitos',\n",
       " 'máximo',\n",
       " 'mês',\n",
       " 'na',\n",
       " 'nada',\n",
       " 'nao',\n",
       " 'naquela',\n",
       " 'naquelas',\n",
       " 'naquele',\n",
       " 'naqueles',\n",
       " 'nas',\n",
       " 'nem',\n",
       " 'nenhuma',\n",
       " 'nessa',\n",
       " 'nessas',\n",
       " 'nesse',\n",
       " 'nesses',\n",
       " 'nesta',\n",
       " 'nestas',\n",
       " 'neste',\n",
       " 'nestes',\n",
       " 'no',\n",
       " 'noite',\n",
       " 'nome',\n",
       " 'nos',\n",
       " 'nossa',\n",
       " 'nossas',\n",
       " 'nosso',\n",
       " 'nossos',\n",
       " 'nova',\n",
       " 'novas',\n",
       " 'nove',\n",
       " 'novo',\n",
       " 'novos',\n",
       " 'num',\n",
       " 'numa',\n",
       " 'numas',\n",
       " 'nunca',\n",
       " 'nuns',\n",
       " 'não',\n",
       " 'nível',\n",
       " 'nós',\n",
       " 'número',\n",
       " 'o',\n",
       " 'obra',\n",
       " 'obrigada',\n",
       " 'obrigado',\n",
       " 'oitava',\n",
       " 'oitavo',\n",
       " 'oito',\n",
       " 'onde',\n",
       " 'ontem',\n",
       " 'onze',\n",
       " 'os',\n",
       " 'ou',\n",
       " 'outra',\n",
       " 'outras',\n",
       " 'outro',\n",
       " 'outros',\n",
       " 'para',\n",
       " 'parece',\n",
       " 'parte',\n",
       " 'partir',\n",
       " 'paucas',\n",
       " 'pegar',\n",
       " 'pela',\n",
       " 'pelas',\n",
       " 'pelo',\n",
       " 'pelos',\n",
       " 'perante',\n",
       " 'perto',\n",
       " 'pessoas',\n",
       " 'pode',\n",
       " 'podem',\n",
       " 'poder',\n",
       " 'poderá',\n",
       " 'podia',\n",
       " 'pois',\n",
       " 'ponto',\n",
       " 'pontos',\n",
       " 'por',\n",
       " 'porque',\n",
       " 'porquê',\n",
       " 'portanto',\n",
       " 'posição',\n",
       " 'possivelmente',\n",
       " 'posso',\n",
       " 'possível',\n",
       " 'pouca',\n",
       " 'pouco',\n",
       " 'poucos',\n",
       " 'povo',\n",
       " 'primeira',\n",
       " 'primeiras',\n",
       " 'primeiro',\n",
       " 'primeiros',\n",
       " 'promeiro',\n",
       " 'propios',\n",
       " 'proprio',\n",
       " 'própria',\n",
       " 'próprias',\n",
       " 'próprio',\n",
       " 'próprios',\n",
       " 'próxima',\n",
       " 'próximas',\n",
       " 'próximo',\n",
       " 'próximos',\n",
       " 'puderam',\n",
       " 'pôde',\n",
       " 'põe',\n",
       " 'põem',\n",
       " 'quais',\n",
       " 'qual',\n",
       " 'qualquer',\n",
       " 'quando',\n",
       " 'quanto',\n",
       " 'quarta',\n",
       " 'quarto',\n",
       " 'quatro',\n",
       " 'que',\n",
       " 'quem',\n",
       " 'quer',\n",
       " 'quereis',\n",
       " 'querem',\n",
       " 'queremas',\n",
       " 'queres',\n",
       " 'quero',\n",
       " 'questão',\n",
       " 'quieto',\n",
       " 'quinta',\n",
       " 'quinto',\n",
       " 'quinze',\n",
       " 'quáis',\n",
       " 'quê',\n",
       " 'relação',\n",
       " 'sabe',\n",
       " 'sabem',\n",
       " 'saber',\n",
       " 'se',\n",
       " 'segunda',\n",
       " 'segundo',\n",
       " 'sei',\n",
       " 'seis',\n",
       " 'seja',\n",
       " 'sejam',\n",
       " 'sejamos',\n",
       " 'sem',\n",
       " 'sempre',\n",
       " 'sendo',\n",
       " 'ser',\n",
       " 'serei',\n",
       " 'seremos',\n",
       " 'seria',\n",
       " 'seriam',\n",
       " 'será',\n",
       " 'serão',\n",
       " 'seríamos',\n",
       " 'sete',\n",
       " 'seu',\n",
       " 'seus',\n",
       " 'sexta',\n",
       " 'sexto',\n",
       " 'sim',\n",
       " 'sistema',\n",
       " 'sob',\n",
       " 'sobre',\n",
       " 'sois',\n",
       " 'somente',\n",
       " 'somos',\n",
       " 'sou',\n",
       " 'sua',\n",
       " 'suas',\n",
       " 'são',\n",
       " 'sétima',\n",
       " 'sétimo',\n",
       " 'só',\n",
       " 'tal',\n",
       " 'talvez',\n",
       " 'tambem',\n",
       " 'também',\n",
       " 'tanta',\n",
       " 'tantas',\n",
       " 'tanto',\n",
       " 'tarde',\n",
       " 'te',\n",
       " 'tem',\n",
       " 'temos',\n",
       " 'tempo',\n",
       " 'tendes',\n",
       " 'tenha',\n",
       " 'tenham',\n",
       " 'tenhamos',\n",
       " 'tenho',\n",
       " 'tens',\n",
       " 'tentar',\n",
       " 'tentaram',\n",
       " 'tente',\n",
       " 'tentei',\n",
       " 'ter',\n",
       " 'terceira',\n",
       " 'terceiro',\n",
       " 'terei',\n",
       " 'teremos',\n",
       " 'teria',\n",
       " 'teriam',\n",
       " 'terá',\n",
       " 'terão',\n",
       " 'teríamos',\n",
       " 'teu',\n",
       " 'teus',\n",
       " 'teve',\n",
       " 'tinha',\n",
       " 'tinham',\n",
       " 'tipo',\n",
       " 'tive',\n",
       " 'tivemos',\n",
       " 'tiver',\n",
       " 'tivera',\n",
       " 'tiveram',\n",
       " 'tiverem',\n",
       " 'tivermos',\n",
       " 'tivesse',\n",
       " 'tivessem',\n",
       " 'tiveste',\n",
       " 'tivestes',\n",
       " 'tivéramos',\n",
       " 'tivéssemos',\n",
       " 'toda',\n",
       " 'todas',\n",
       " 'todo',\n",
       " 'todos',\n",
       " 'trabalhar',\n",
       " 'trabalho',\n",
       " 'treze',\n",
       " 'três',\n",
       " 'tu',\n",
       " 'tua',\n",
       " 'tuas',\n",
       " 'tudo',\n",
       " 'tão',\n",
       " 'tém',\n",
       " 'têm',\n",
       " 'tínhamos',\n",
       " 'um',\n",
       " 'uma',\n",
       " 'umas',\n",
       " 'uns',\n",
       " 'usa',\n",
       " 'usar',\n",
       " 'vai',\n",
       " 'vais',\n",
       " 'valor',\n",
       " 'veja',\n",
       " 'vem',\n",
       " 'vens',\n",
       " 'ver',\n",
       " 'verdade',\n",
       " nan,\n",
       " 'vez',\n",
       " 'vezes',\n",
       " 'viagem',\n",
       " 'vindo',\n",
       " 'vinte',\n",
       " 'você',\n",
       " 'vocês',\n",
       " 'vos',\n",
       " 'vossa',\n",
       " 'vossas',\n",
       " 'vosso',\n",
       " 'vossos',\n",
       " 'vários',\n",
       " 'vão',\n",
       " 'vêm',\n",
       " 'vós',\n",
       " 'zero',\n",
       " 'à',\n",
       " 'às',\n",
       " 'área',\n",
       " 'é',\n",
       " 'éramos',\n",
       " 'és',\n",
       " 'último']"
      ]
     },
     "execution_count": 238,
     "metadata": {},
     "output_type": "execute_result"
    }
   ],
   "source": [
    "lista_stop_words"
   ]
  },
  {
   "cell_type": "code",
   "execution_count": 246,
   "metadata": {},
   "outputs": [
    {
     "name": "stdout",
     "output_type": "stream",
     "text": [
      "-\n",
      "manutencao\n",
      "07\n",
      "cadeiras\n",
      "existentes\n",
      "fila\n",
      "espera\n",
      "caixa/atend\n",
      "03\n",
      "cadeiras\n",
      "uso\n",
      "funcis\n",
      "atendimento\n"
     ]
    }
   ],
   "source": [
    "for x in train['justificativa'][0].lower().split():\n",
    "    if x not in lista_stop_words:\n",
    "        print(x)\n",
    "        "
   ]
  },
  {
   "cell_type": "code",
   "execution_count": null,
   "metadata": {},
   "outputs": [],
   "source": []
  },
  {
   "cell_type": "markdown",
   "metadata": {},
   "source": [
    "<h5>Num of special characters</h5>"
   ]
  },
  {
   "cell_type": "code",
   "execution_count": null,
   "metadata": {},
   "outputs": [],
   "source": [
    "train['hashtags'] = train['justificativa'].apply(lambda x: len([x for x in x.split() if x.startswith('-')]))"
   ]
  },
  {
   "cell_type": "code",
   "execution_count": null,
   "metadata": {},
   "outputs": [],
   "source": [
    "train[['justificativa', 'hashtags']].head()"
   ]
  },
  {
   "cell_type": "markdown",
   "metadata": {},
   "source": [
    "<h5>Number of numerics</h5>"
   ]
  },
  {
   "cell_type": "code",
   "execution_count": 247,
   "metadata": {},
   "outputs": [],
   "source": [
    "train['numerics'] = train['justificativa'].apply(lambda x: len([x for x in x.split() if x.isdigit()]))"
   ]
  },
  {
   "cell_type": "code",
   "execution_count": 248,
   "metadata": {},
   "outputs": [
    {
     "data": {
      "text/html": [
       "<div>\n",
       "<style scoped>\n",
       "    .dataframe tbody tr th:only-of-type {\n",
       "        vertical-align: middle;\n",
       "    }\n",
       "\n",
       "    .dataframe tbody tr th {\n",
       "        vertical-align: top;\n",
       "    }\n",
       "\n",
       "    .dataframe thead th {\n",
       "        text-align: right;\n",
       "    }\n",
       "</style>\n",
       "<table border=\"1\" class=\"dataframe\">\n",
       "  <thead>\n",
       "    <tr style=\"text-align: right;\">\n",
       "      <th></th>\n",
       "      <th>justificativa</th>\n",
       "      <th>numerics</th>\n",
       "    </tr>\n",
       "  </thead>\n",
       "  <tbody>\n",
       "    <tr>\n",
       "      <th>0</th>\n",
       "      <td>- MANUTENCAO DE 07 CADEIRAS EXISTENTES NA FILA...</td>\n",
       "      <td>2</td>\n",
       "    </tr>\n",
       "    <tr>\n",
       "      <th>1</th>\n",
       "      <td>PAGAMENTO INSTALÇAO PLACAS BIOMBO PRIVATICIDAD...</td>\n",
       "      <td>0</td>\n",
       "    </tr>\n",
       "    <tr>\n",
       "      <th>2</th>\n",
       "      <td>01 ASSENTO SANITARIO, PARA O BANHEIRO FEMININO.</td>\n",
       "      <td>1</td>\n",
       "    </tr>\n",
       "    <tr>\n",
       "      <th>3</th>\n",
       "      <td>01 PINO/REFORçO ESTAçãO DE TRABALHO</td>\n",
       "      <td>1</td>\n",
       "    </tr>\n",
       "    <tr>\n",
       "      <th>4</th>\n",
       "      <td>02 CADEIRAS MOON (GRAMPEAGEM); 03 CADEIRAS ESP...</td>\n",
       "      <td>5</td>\n",
       "    </tr>\n",
       "  </tbody>\n",
       "</table>\n",
       "</div>"
      ],
      "text/plain": [
       "                                       justificativa  numerics\n",
       "0  - MANUTENCAO DE 07 CADEIRAS EXISTENTES NA FILA...         2\n",
       "1  PAGAMENTO INSTALÇAO PLACAS BIOMBO PRIVATICIDAD...         0\n",
       "2    01 ASSENTO SANITARIO, PARA O BANHEIRO FEMININO.         1\n",
       "3                01 PINO/REFORçO ESTAçãO DE TRABALHO         1\n",
       "4  02 CADEIRAS MOON (GRAMPEAGEM); 03 CADEIRAS ESP...         5"
      ]
     },
     "execution_count": 248,
     "metadata": {},
     "output_type": "execute_result"
    }
   ],
   "source": [
    "train[['justificativa','numerics']].head()"
   ]
  },
  {
   "cell_type": "markdown",
   "metadata": {},
   "source": [
    "<h5>Number of uppercase</h5>"
   ]
  },
  {
   "cell_type": "code",
   "execution_count": null,
   "metadata": {},
   "outputs": [],
   "source": [
    "train['upper'] = train['justificativa'].apply(lambda x: len([x for x in x.split() if x.isupper()]))"
   ]
  },
  {
   "cell_type": "code",
   "execution_count": null,
   "metadata": {},
   "outputs": [],
   "source": [
    "train[['justificativa', 'upper']].head()"
   ]
  },
  {
   "cell_type": "markdown",
   "metadata": {},
   "source": [
    "<h5>Removing Punctuation</h5>"
   ]
  },
  {
   "cell_type": "code",
   "execution_count": null,
   "metadata": {},
   "outputs": [],
   "source": [
    "train['new_justifi'] = train['justificativa'].str.replace('[^\\w\\s]','')"
   ]
  },
  {
   "cell_type": "code",
   "execution_count": null,
   "metadata": {},
   "outputs": [],
   "source": [
    "train['new_justifi'].head()"
   ]
  },
  {
   "cell_type": "code",
   "execution_count": null,
   "metadata": {},
   "outputs": [],
   "source": [
    "train['new_justifi'].head(6)"
   ]
  },
  {
   "cell_type": "markdown",
   "metadata": {},
   "source": [
    "<h5>Removal of Stop Words</h5>"
   ]
  },
  {
   "cell_type": "code",
   "execution_count": 34,
   "metadata": {},
   "outputs": [],
   "source": [
    "from nltk.corpus import stopwords"
   ]
  },
  {
   "cell_type": "code",
   "execution_count": 35,
   "metadata": {},
   "outputs": [],
   "source": [
    "texto = 'TEXTO MAIUSCULO'"
   ]
  },
  {
   "cell_type": "code",
   "execution_count": 55,
   "metadata": {},
   "outputs": [
    {
     "data": {
      "text/plain": [
       "'texto maiusculo'"
      ]
     },
     "execution_count": 55,
     "metadata": {},
     "output_type": "execute_result"
    }
   ],
   "source": [
    "texto"
   ]
  },
  {
   "cell_type": "code",
   "execution_count": 56,
   "metadata": {},
   "outputs": [],
   "source": [
    "texto = texto.lower()"
   ]
  },
  {
   "cell_type": "code",
   "execution_count": 57,
   "metadata": {},
   "outputs": [
    {
     "data": {
      "text/plain": [
       "'texto maiusculo'"
      ]
     },
     "execution_count": 57,
     "metadata": {},
     "output_type": "execute_result"
    }
   ],
   "source": [
    "texto"
   ]
  },
  {
   "cell_type": "code",
   "execution_count": 58,
   "metadata": {},
   "outputs": [
    {
     "data": {
      "text/plain": [
       "['texto', 'maiusculo']"
      ]
     },
     "execution_count": 58,
     "metadata": {},
     "output_type": "execute_result"
    }
   ],
   "source": [
    "texto.split()"
   ]
  },
  {
   "cell_type": "code",
   "execution_count": 59,
   "metadata": {},
   "outputs": [],
   "source": [
    "texto2 = 'texto mini'\n",
    "texto3 = 'TEXTO MAIU'"
   ]
  },
  {
   "cell_type": "code",
   "execution_count": 60,
   "metadata": {},
   "outputs": [
    {
     "data": {
      "text/plain": [
       "(['texto', 'mini'], ['TEXTO', 'MAIU'])"
      ]
     },
     "execution_count": 60,
     "metadata": {},
     "output_type": "execute_result"
    }
   ],
   "source": [
    "texto2.split(), texto3.split()"
   ]
  },
  {
   "cell_type": "code",
   "execution_count": 61,
   "metadata": {},
   "outputs": [
    {
     "name": "stdout",
     "output_type": "stream",
     "text": [
      "texto\n",
      "mini\n"
     ]
    }
   ],
   "source": [
    "for x in texto2.split():\n",
    "    print(x)"
   ]
  },
  {
   "cell_type": "code",
   "execution_count": 62,
   "metadata": {},
   "outputs": [
    {
     "name": "stdout",
     "output_type": "stream",
     "text": [
      "TEXTO\n",
      "MAIU\n"
     ]
    }
   ],
   "source": [
    "for x in texto3.split():\n",
    "    print(x)"
   ]
  },
  {
   "cell_type": "code",
   "execution_count": 63,
   "metadata": {},
   "outputs": [
    {
     "name": "stdout",
     "output_type": "stream",
     "text": [
      "nao achou\n",
      "nao achou\n"
     ]
    }
   ],
   "source": [
    "for x in texto2.split():\n",
    "    if x in texto3.split():\n",
    "        print(x)\n",
    "    else: print('nao achou')\n",
    "    "
   ]
  },
  {
   "cell_type": "code",
   "execution_count": 64,
   "metadata": {},
   "outputs": [
    {
     "name": "stdout",
     "output_type": "stream",
     "text": [
      "texto\n",
      "MESCLA\n"
     ]
    }
   ],
   "source": [
    "texto4 = 'texto MESCLA'\n",
    "for x in texto4.split():\n",
    "    print(x)"
   ]
  },
  {
   "cell_type": "code",
   "execution_count": 65,
   "metadata": {},
   "outputs": [
    {
     "name": "stdout",
     "output_type": "stream",
     "text": [
      "['texto']\n",
      "nao achou\n"
     ]
    }
   ],
   "source": [
    "for x in texto2.split():\n",
    "    if x in texto4.split():\n",
    "        print(x.split())\n",
    "    else: print('nao achou')"
   ]
  },
  {
   "cell_type": "code",
   "execution_count": 66,
   "metadata": {},
   "outputs": [],
   "source": [
    "notas = pd.Series(['TEXTO', 'NOVO', 'CURSO'])"
   ]
  },
  {
   "cell_type": "code",
   "execution_count": 67,
   "metadata": {},
   "outputs": [
    {
     "data": {
      "text/plain": [
       "0    TEXTO\n",
       "1     NOVO\n",
       "2    CURSO\n",
       "dtype: object"
      ]
     },
     "execution_count": 67,
     "metadata": {},
     "output_type": "execute_result"
    }
   ],
   "source": [
    "notas"
   ]
  },
  {
   "cell_type": "code",
   "execution_count": 68,
   "metadata": {},
   "outputs": [],
   "source": [
    "nova = []\n"
   ]
  },
  {
   "cell_type": "code",
   "execution_count": 69,
   "metadata": {},
   "outputs": [],
   "source": [
    "nova= pd.DataFrame"
   ]
  },
  {
   "cell_type": "code",
   "execution_count": 70,
   "metadata": {},
   "outputs": [],
   "source": [
    "nova = pd.DataFrame({'Aluno': ['Carlos', 'joao', 'Pedro']})"
   ]
  },
  {
   "cell_type": "code",
   "execution_count": 71,
   "metadata": {},
   "outputs": [
    {
     "data": {
      "text/plain": [
       "0    Carlos\n",
       "1      joao\n",
       "2     Pedro\n",
       "Name: Aluno, dtype: object"
      ]
     },
     "execution_count": 71,
     "metadata": {},
     "output_type": "execute_result"
    }
   ],
   "source": [
    "nova['Aluno']"
   ]
  },
  {
   "cell_type": "code",
   "execution_count": 72,
   "metadata": {},
   "outputs": [],
   "source": [
    "texto5 = 'TEXTO NOVO 5'"
   ]
  },
  {
   "cell_type": "code",
   "execution_count": 73,
   "metadata": {},
   "outputs": [
    {
     "data": {
      "text/plain": [
       "['TEXTO', 'NOVO', '5']"
      ]
     },
     "execution_count": 73,
     "metadata": {},
     "output_type": "execute_result"
    }
   ],
   "source": [
    "texto5.split()"
   ]
  },
  {
   "cell_type": "code",
   "execution_count": 74,
   "metadata": {},
   "outputs": [
    {
     "data": {
      "text/plain": [
       "'texto maiusculo'"
      ]
     },
     "execution_count": 74,
     "metadata": {},
     "output_type": "execute_result"
    }
   ],
   "source": [
    "texto"
   ]
  },
  {
   "cell_type": "code",
   "execution_count": 78,
   "metadata": {},
   "outputs": [
    {
     "data": {
      "text/plain": [
       "['texto', 'novo', '5']"
      ]
     },
     "execution_count": 78,
     "metadata": {},
     "output_type": "execute_result"
    }
   ],
   "source": [
    "texto5.lower().split()\n",
    "    "
   ]
  },
  {
   "cell_type": "code",
   "execution_count": 80,
   "metadata": {},
   "outputs": [
    {
     "name": "stdout",
     "output_type": "stream",
     "text": [
      "texto\n",
      "não achou\n",
      "não achou\n"
     ]
    }
   ],
   "source": [
    "for x in texto5.lower().split():\n",
    "    if x in texto:\n",
    "        print(x)\n",
    "    else: print('não achou')"
   ]
  },
  {
   "cell_type": "code",
   "execution_count": 213,
   "metadata": {},
   "outputs": [],
   "source": [
    "import pandas as pd\n",
    "stopwords = pd.read_excel('L:\\Interna\\Informações Gerencias\\Projetos e Pesquisas\\Machine Learning\\Stopwords\\stopwords2.xlsx')"
   ]
  },
  {
   "cell_type": "code",
   "execution_count": 223,
   "metadata": {},
   "outputs": [],
   "source": [
    "nova = []\n",
    "\n"
   ]
  },
  {
   "cell_type": "code",
   "execution_count": 225,
   "metadata": {},
   "outputs": [
    {
     "name": "stdout",
     "output_type": "stream",
     "text": [
      "<class 'list'>\n"
     ]
    }
   ],
   "source": [
    "print(type(nova))"
   ]
  },
  {
   "cell_type": "code",
   "execution_count": 226,
   "metadata": {},
   "outputs": [],
   "source": [
    "for x in stopwords['stopwords']:\n",
    "    nova.append(x)"
   ]
  },
  {
   "cell_type": "code",
   "execution_count": 231,
   "metadata": {},
   "outputs": [
    {
     "data": {
      "text/plain": [
       "['acerca',\n",
       " 'adeus',\n",
       " 'agora',\n",
       " 'ainda',\n",
       " 'alem',\n",
       " 'algmas',\n",
       " 'algo',\n",
       " 'algumas',\n",
       " 'alguns',\n",
       " 'ali',\n",
       " 'além',\n",
       " 'ambas',\n",
       " 'ambos',\n",
       " 'ano',\n",
       " 'anos',\n",
       " 'antes',\n",
       " 'ao',\n",
       " 'aonde',\n",
       " 'aos',\n",
       " 'apenas',\n",
       " 'apoio',\n",
       " 'apontar',\n",
       " 'apos',\n",
       " 'após',\n",
       " 'aquela',\n",
       " 'aquelas',\n",
       " 'aquele',\n",
       " 'aqueles',\n",
       " 'aqui',\n",
       " 'aquilo',\n",
       " 'as',\n",
       " 'assim',\n",
       " 'através',\n",
       " 'atrás',\n",
       " 'até',\n",
       " 'aí',\n",
       " 'baixo',\n",
       " 'bastante',\n",
       " 'bem',\n",
       " 'boa',\n",
       " 'boas',\n",
       " 'bom',\n",
       " 'bons',\n",
       " 'breve',\n",
       " 'cada',\n",
       " 'caminho',\n",
       " 'catorze',\n",
       " 'cedo',\n",
       " 'cento',\n",
       " 'certamente',\n",
       " 'certeza',\n",
       " 'cima',\n",
       " 'cinco',\n",
       " 'coisa',\n",
       " 'com',\n",
       " 'como',\n",
       " 'comprido',\n",
       " 'conhecido',\n",
       " 'conselho',\n",
       " 'contra',\n",
       " 'contudo',\n",
       " 'corrente',\n",
       " 'cuja',\n",
       " 'cujas',\n",
       " 'cujo',\n",
       " 'cujos',\n",
       " 'custa',\n",
       " 'cá',\n",
       " 'da',\n",
       " 'daquela',\n",
       " 'daquelas',\n",
       " 'daquele',\n",
       " 'daqueles',\n",
       " 'dar',\n",
       " 'das',\n",
       " 'de',\n",
       " 'debaixo',\n",
       " 'dela',\n",
       " 'delas',\n",
       " 'dele',\n",
       " 'deles',\n",
       " 'demais',\n",
       " 'dentro',\n",
       " 'depois',\n",
       " 'desde',\n",
       " 'desligado',\n",
       " 'dessa',\n",
       " 'dessas',\n",
       " 'desse',\n",
       " 'desses',\n",
       " 'desta',\n",
       " 'destas',\n",
       " 'deste',\n",
       " 'destes',\n",
       " 'deve',\n",
       " 'devem',\n",
       " 'deverá',\n",
       " 'dez',\n",
       " 'dezanove',\n",
       " 'dezasseis',\n",
       " 'dezassete',\n",
       " 'dezoito',\n",
       " 'dia',\n",
       " 'diante',\n",
       " 'direita',\n",
       " 'dispoe',\n",
       " 'dispoem',\n",
       " 'diversa',\n",
       " 'diversas',\n",
       " 'diversos',\n",
       " 'diz',\n",
       " 'dizem',\n",
       " 'dizer',\n",
       " 'do',\n",
       " 'dois',\n",
       " 'dos',\n",
       " 'doze',\n",
       " 'duas',\n",
       " 'durante',\n",
       " 'dá',\n",
       " 'dão',\n",
       " 'dúvida',\n",
       " 'e',\n",
       " 'ela',\n",
       " 'elas',\n",
       " 'ele',\n",
       " 'eles',\n",
       " 'em',\n",
       " 'embora',\n",
       " 'enquanto',\n",
       " 'entao',\n",
       " 'entre',\n",
       " 'então',\n",
       " 'era',\n",
       " 'eram',\n",
       " 'essa',\n",
       " 'essas',\n",
       " 'esse',\n",
       " 'esses',\n",
       " 'esta',\n",
       " 'estado',\n",
       " 'estamos',\n",
       " 'estar',\n",
       " 'estará',\n",
       " 'estas',\n",
       " 'estava',\n",
       " 'estavam',\n",
       " 'este',\n",
       " 'esteja',\n",
       " 'estejam',\n",
       " 'estejamos',\n",
       " 'estes',\n",
       " 'esteve',\n",
       " 'estive',\n",
       " 'estivemos',\n",
       " 'estiver',\n",
       " 'estivera',\n",
       " 'estiveram',\n",
       " 'estiverem',\n",
       " 'estivermos',\n",
       " 'estivesse',\n",
       " 'estivessem',\n",
       " 'estiveste',\n",
       " 'estivestes',\n",
       " 'estivéramos',\n",
       " 'estivéssemos',\n",
       " 'estou',\n",
       " 'está',\n",
       " 'estás',\n",
       " 'estávamos',\n",
       " 'estão',\n",
       " 'eu',\n",
       " 'exemplo',\n",
       " 'falta',\n",
       " 'fará',\n",
       " 'favor',\n",
       " 'faz',\n",
       " 'fazeis',\n",
       " 'fazem',\n",
       " 'fazemos',\n",
       " 'fazer',\n",
       " 'fazes',\n",
       " 'fazia',\n",
       " 'faço',\n",
       " 'fez',\n",
       " 'fim',\n",
       " 'final',\n",
       " 'foi',\n",
       " 'fomos',\n",
       " 'for',\n",
       " 'fora',\n",
       " 'foram',\n",
       " 'forem',\n",
       " 'forma',\n",
       " 'formos',\n",
       " 'fosse',\n",
       " 'fossem',\n",
       " 'foste',\n",
       " 'fostes',\n",
       " 'fui',\n",
       " 'fôramos',\n",
       " 'fôssemos',\n",
       " 'geral',\n",
       " 'grande',\n",
       " 'grandes',\n",
       " 'grupo',\n",
       " 'ha',\n",
       " 'haja',\n",
       " 'hajam',\n",
       " 'hajamos',\n",
       " 'havemos',\n",
       " 'havia',\n",
       " 'hei',\n",
       " 'hoje',\n",
       " 'hora',\n",
       " 'horas',\n",
       " 'houve',\n",
       " 'houvemos',\n",
       " 'houver',\n",
       " 'houvera',\n",
       " 'houveram',\n",
       " 'houverei',\n",
       " 'houverem',\n",
       " 'houveremos',\n",
       " 'houveria',\n",
       " 'houveriam',\n",
       " 'houvermos',\n",
       " 'houverá',\n",
       " 'houverão',\n",
       " 'houveríamos',\n",
       " 'houvesse',\n",
       " 'houvessem',\n",
       " 'houvéramos',\n",
       " 'houvéssemos',\n",
       " 'há',\n",
       " 'hão',\n",
       " 'iniciar',\n",
       " 'inicio',\n",
       " 'ir',\n",
       " 'irá',\n",
       " 'isso',\n",
       " 'ista',\n",
       " 'iste',\n",
       " 'isto',\n",
       " 'já',\n",
       " 'lado',\n",
       " 'lhe',\n",
       " 'lhes',\n",
       " 'ligado',\n",
       " 'local',\n",
       " 'logo',\n",
       " 'longe',\n",
       " 'lugar',\n",
       " 'lá',\n",
       " 'maior',\n",
       " 'maioria',\n",
       " 'maiorias',\n",
       " 'mais',\n",
       " 'mal',\n",
       " 'mas',\n",
       " 'me',\n",
       " 'mediante',\n",
       " 'meio',\n",
       " 'menor',\n",
       " 'menos',\n",
       " 'meses',\n",
       " 'mesma',\n",
       " 'mesmas',\n",
       " 'mesmo',\n",
       " 'mesmos',\n",
       " 'meu',\n",
       " 'meus',\n",
       " 'mil',\n",
       " 'minha',\n",
       " 'minhas',\n",
       " 'momento',\n",
       " 'muito',\n",
       " 'muitos',\n",
       " 'máximo',\n",
       " 'mês',\n",
       " 'na',\n",
       " 'nada',\n",
       " 'nao',\n",
       " 'naquela',\n",
       " 'naquelas',\n",
       " 'naquele',\n",
       " 'naqueles',\n",
       " 'nas',\n",
       " 'nem',\n",
       " 'nenhuma',\n",
       " 'nessa',\n",
       " 'nessas',\n",
       " 'nesse',\n",
       " 'nesses',\n",
       " 'nesta',\n",
       " 'nestas',\n",
       " 'neste',\n",
       " 'nestes',\n",
       " 'no',\n",
       " 'noite',\n",
       " 'nome',\n",
       " 'nos',\n",
       " 'nossa',\n",
       " 'nossas',\n",
       " 'nosso',\n",
       " 'nossos',\n",
       " 'nova',\n",
       " 'novas',\n",
       " 'nove',\n",
       " 'novo',\n",
       " 'novos',\n",
       " 'num',\n",
       " 'numa',\n",
       " 'numas',\n",
       " 'nunca',\n",
       " 'nuns',\n",
       " 'não',\n",
       " 'nível',\n",
       " 'nós',\n",
       " 'número',\n",
       " 'o',\n",
       " 'obra',\n",
       " 'obrigada',\n",
       " 'obrigado',\n",
       " 'oitava',\n",
       " 'oitavo',\n",
       " 'oito',\n",
       " 'onde',\n",
       " 'ontem',\n",
       " 'onze',\n",
       " 'os',\n",
       " 'ou',\n",
       " 'outra',\n",
       " 'outras',\n",
       " 'outro',\n",
       " 'outros',\n",
       " 'para',\n",
       " 'parece',\n",
       " 'parte',\n",
       " 'partir',\n",
       " 'paucas',\n",
       " 'pegar',\n",
       " 'pela',\n",
       " 'pelas',\n",
       " 'pelo',\n",
       " 'pelos',\n",
       " 'perante',\n",
       " 'perto',\n",
       " 'pessoas',\n",
       " 'pode',\n",
       " 'podem',\n",
       " 'poder',\n",
       " 'poderá',\n",
       " 'podia',\n",
       " 'pois',\n",
       " 'ponto',\n",
       " 'pontos',\n",
       " 'por',\n",
       " 'porque',\n",
       " 'porquê',\n",
       " 'portanto',\n",
       " 'posição',\n",
       " 'possivelmente',\n",
       " 'posso',\n",
       " 'possível',\n",
       " 'pouca',\n",
       " 'pouco',\n",
       " 'poucos',\n",
       " 'povo',\n",
       " 'primeira',\n",
       " 'primeiras',\n",
       " 'primeiro',\n",
       " 'primeiros',\n",
       " 'promeiro',\n",
       " 'propios',\n",
       " 'proprio',\n",
       " 'própria',\n",
       " 'próprias',\n",
       " 'próprio',\n",
       " 'próprios',\n",
       " 'próxima',\n",
       " 'próximas',\n",
       " 'próximo',\n",
       " 'próximos',\n",
       " 'puderam',\n",
       " 'pôde',\n",
       " 'põe',\n",
       " 'põem',\n",
       " 'quais',\n",
       " 'qual',\n",
       " 'qualquer',\n",
       " 'quando',\n",
       " 'quanto',\n",
       " 'quarta',\n",
       " 'quarto',\n",
       " 'quatro',\n",
       " 'que',\n",
       " 'quem',\n",
       " 'quer',\n",
       " 'quereis',\n",
       " 'querem',\n",
       " 'queremas',\n",
       " 'queres',\n",
       " 'quero',\n",
       " 'questão',\n",
       " 'quieto',\n",
       " 'quinta',\n",
       " 'quinto',\n",
       " 'quinze',\n",
       " 'quáis',\n",
       " 'quê',\n",
       " 'relação',\n",
       " 'sabe',\n",
       " 'sabem',\n",
       " 'saber',\n",
       " 'se',\n",
       " 'segunda',\n",
       " 'segundo',\n",
       " 'sei',\n",
       " 'seis',\n",
       " 'seja',\n",
       " 'sejam',\n",
       " 'sejamos',\n",
       " 'sem',\n",
       " 'sempre',\n",
       " 'sendo',\n",
       " 'ser',\n",
       " 'serei',\n",
       " 'seremos',\n",
       " 'seria',\n",
       " 'seriam',\n",
       " 'será',\n",
       " 'serão',\n",
       " 'seríamos',\n",
       " 'sete',\n",
       " 'seu',\n",
       " 'seus',\n",
       " 'sexta',\n",
       " 'sexto',\n",
       " 'sim',\n",
       " 'sistema',\n",
       " 'sob',\n",
       " 'sobre',\n",
       " 'sois',\n",
       " 'somente',\n",
       " 'somos',\n",
       " 'sou',\n",
       " 'sua',\n",
       " 'suas',\n",
       " 'são',\n",
       " 'sétima',\n",
       " 'sétimo',\n",
       " 'só',\n",
       " 'tal',\n",
       " 'talvez',\n",
       " 'tambem',\n",
       " 'também',\n",
       " 'tanta',\n",
       " 'tantas',\n",
       " 'tanto',\n",
       " 'tarde',\n",
       " 'te',\n",
       " 'tem',\n",
       " 'temos',\n",
       " 'tempo',\n",
       " 'tendes',\n",
       " 'tenha',\n",
       " 'tenham',\n",
       " 'tenhamos',\n",
       " 'tenho',\n",
       " 'tens',\n",
       " 'tentar',\n",
       " 'tentaram',\n",
       " 'tente',\n",
       " 'tentei',\n",
       " 'ter',\n",
       " 'terceira',\n",
       " 'terceiro',\n",
       " 'terei',\n",
       " 'teremos',\n",
       " 'teria',\n",
       " 'teriam',\n",
       " 'terá',\n",
       " 'terão',\n",
       " 'teríamos',\n",
       " 'teu',\n",
       " 'teus',\n",
       " 'teve',\n",
       " 'tinha',\n",
       " 'tinham',\n",
       " 'tipo',\n",
       " 'tive',\n",
       " 'tivemos',\n",
       " 'tiver',\n",
       " 'tivera',\n",
       " 'tiveram',\n",
       " 'tiverem',\n",
       " 'tivermos',\n",
       " 'tivesse',\n",
       " 'tivessem',\n",
       " 'tiveste',\n",
       " 'tivestes',\n",
       " 'tivéramos',\n",
       " 'tivéssemos',\n",
       " 'toda',\n",
       " 'todas',\n",
       " 'todo',\n",
       " 'todos',\n",
       " 'trabalhar',\n",
       " 'trabalho',\n",
       " 'treze',\n",
       " 'três',\n",
       " 'tu',\n",
       " 'tua',\n",
       " 'tuas',\n",
       " 'tudo',\n",
       " 'tão',\n",
       " 'tém',\n",
       " 'têm',\n",
       " 'tínhamos',\n",
       " 'um',\n",
       " 'uma',\n",
       " 'umas',\n",
       " 'uns',\n",
       " 'usa',\n",
       " 'usar',\n",
       " 'vai',\n",
       " 'vais',\n",
       " 'valor',\n",
       " 'veja',\n",
       " 'vem',\n",
       " 'vens',\n",
       " 'ver',\n",
       " 'verdade',\n",
       " nan,\n",
       " 'vez',\n",
       " 'vezes',\n",
       " 'viagem',\n",
       " 'vindo',\n",
       " 'vinte',\n",
       " 'você',\n",
       " 'vocês',\n",
       " 'vos',\n",
       " 'vossa',\n",
       " 'vossas',\n",
       " 'vosso',\n",
       " 'vossos',\n",
       " 'vários',\n",
       " 'vão',\n",
       " 'vêm',\n",
       " 'vós',\n",
       " 'zero',\n",
       " 'à',\n",
       " 'às',\n",
       " 'área',\n",
       " 'é',\n",
       " 'éramos',\n",
       " 'és',\n",
       " 'último']"
      ]
     },
     "execution_count": 231,
     "metadata": {},
     "output_type": "execute_result"
    }
   ],
   "source": [
    "nova"
   ]
  },
  {
   "cell_type": "markdown",
   "metadata": {},
   "source": [
    "<h4>INCREMENTAR UMA STRING</h4>"
   ]
  },
  {
   "cell_type": "code",
   "execution_count": 36,
   "metadata": {},
   "outputs": [],
   "source": [
    "texto6 = 'esse texto é um teste'"
   ]
  },
  {
   "cell_type": "code",
   "execution_count": 37,
   "metadata": {},
   "outputs": [
    {
     "data": {
      "text/plain": [
       "['esse', 'texto', 'é', 'um', 'teste']"
      ]
     },
     "execution_count": 37,
     "metadata": {},
     "output_type": "execute_result"
    }
   ],
   "source": [
    "texto6.split()"
   ]
  },
  {
   "cell_type": "code",
   "execution_count": 38,
   "metadata": {},
   "outputs": [],
   "source": [
    "x = 'nova'\n",
    "texto6 +=\" \"+ x"
   ]
  },
  {
   "cell_type": "code",
   "execution_count": 43,
   "metadata": {},
   "outputs": [
    {
     "name": "stdout",
     "output_type": "stream",
     "text": [
      "esse texto é um teste nova\n"
     ]
    },
    {
     "data": {
      "text/plain": [
       "str"
      ]
     },
     "execution_count": 43,
     "metadata": {},
     "output_type": "execute_result"
    }
   ],
   "source": [
    "print(texto6)\n",
    "type(texto6)"
   ]
  },
  {
   "cell_type": "code",
   "execution_count": 40,
   "metadata": {},
   "outputs": [
    {
     "data": {
      "text/plain": [
       "['esse', 'texto', 'é', 'um', 'teste', 'nova']"
      ]
     },
     "execution_count": 40,
     "metadata": {},
     "output_type": "execute_result"
    }
   ],
   "source": [
    "texto6.split()"
   ]
  },
  {
   "cell_type": "code",
   "execution_count": 42,
   "metadata": {},
   "outputs": [
    {
     "ename": "SyntaxError",
     "evalue": "invalid syntax (<ipython-input-42-b504b87b0126>, line 2)",
     "output_type": "error",
     "traceback": [
      "\u001b[1;36m  File \u001b[1;32m\"<ipython-input-42-b504b87b0126>\"\u001b[1;36m, line \u001b[1;32m2\u001b[0m\n\u001b[1;33m    y = lambda x: if x ==\"teste\"\u001b[0m\n\u001b[1;37m                   ^\u001b[0m\n\u001b[1;31mSyntaxError\u001b[0m\u001b[1;31m:\u001b[0m invalid syntax\n"
     ]
    }
   ],
   "source": [
    "for x in texto6.split():\n",
    "    y = lambda x: if x ==\"teste\"\n",
    "print(y)"
   ]
  },
  {
   "cell_type": "code",
   "execution_count": 13,
   "metadata": {},
   "outputs": [
    {
     "ename": "AttributeError",
     "evalue": "'function' object has no attribute 'apply'",
     "output_type": "error",
     "traceback": [
      "\u001b[1;31m---------------------------------------------------------------------------\u001b[0m",
      "\u001b[1;31mAttributeError\u001b[0m                            Traceback (most recent call last)",
      "\u001b[1;32m<ipython-input-13-ad7aedb7ee53>\u001b[0m in \u001b[0;36m<module>\u001b[1;34m()\u001b[0m\n\u001b[0;32m      1\u001b[0m \u001b[0mx\u001b[0m \u001b[1;33m=\u001b[0m \u001b[1;36m5\u001b[0m\u001b[1;33m\u001b[0m\u001b[0m\n\u001b[1;32m----> 2\u001b[1;33m \u001b[0my\u001b[0m\u001b[1;33m.\u001b[0m\u001b[0mapply\u001b[0m\u001b[1;33m(\u001b[0m \u001b[1;32mlambda\u001b[0m \u001b[0mx\u001b[0m\u001b[1;33m:\u001b[0m  \u001b[1;36m5\u001b[0m  \u001b[1;33m+\u001b[0m \u001b[1;36m5\u001b[0m\u001b[1;33m)\u001b[0m\u001b[1;33m\u001b[0m\u001b[0m\n\u001b[0m\u001b[0;32m      3\u001b[0m \u001b[0my\u001b[0m\u001b[1;33m\u001b[0m\u001b[0m\n",
      "\u001b[1;31mAttributeError\u001b[0m: 'function' object has no attribute 'apply'"
     ]
    }
   ],
   "source": [
    "x = 5\n",
    "y = lambda x:  x  + 5\n",
    "y(5)"
   ]
  }
 ],
 "metadata": {
  "kernelspec": {
   "display_name": "Python 3",
   "language": "python",
   "name": "python3"
  },
  "language_info": {
   "codemirror_mode": {
    "name": "ipython",
    "version": 3
   },
   "file_extension": ".py",
   "mimetype": "text/x-python",
   "name": "python",
   "nbconvert_exporter": "python",
   "pygments_lexer": "ipython3",
   "version": "3.7.1"
  }
 },
 "nbformat": 4,
 "nbformat_minor": 2
}
